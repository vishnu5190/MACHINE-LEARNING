{
 "cells": [
  {
   "cell_type": "code",
   "execution_count": 58,
   "id": "ec3fced0",
   "metadata": {},
   "outputs": [],
   "source": [
    "import pandas as pd\n",
    "\n",
    "import numpy as np\n",
    "import csv\n",
    "import math"
   ]
  },
  {
   "cell_type": "code",
   "execution_count": 73,
   "id": "73635052",
   "metadata": {},
   "outputs": [],
   "source": [
    "data = pd.read_csv(\"Desktop/untitled.csv\")"
   ]
  },
  {
   "cell_type": "code",
   "execution_count": 74,
   "id": "8e9c652d",
   "metadata": {},
   "outputs": [
    {
     "data": {
      "text/html": [
       "<div>\n",
       "<style scoped>\n",
       "    .dataframe tbody tr th:only-of-type {\n",
       "        vertical-align: middle;\n",
       "    }\n",
       "\n",
       "    .dataframe tbody tr th {\n",
       "        vertical-align: top;\n",
       "    }\n",
       "\n",
       "    .dataframe thead th {\n",
       "        text-align: right;\n",
       "    }\n",
       "</style>\n",
       "<table border=\"1\" class=\"dataframe\">\n",
       "  <thead>\n",
       "    <tr style=\"text-align: right;\">\n",
       "      <th></th>\n",
       "      <th>PropertySize</th>\n",
       "      <th>Area</th>\n",
       "      <th>Pricing</th>\n",
       "      <th>Answer</th>\n",
       "    </tr>\n",
       "  </thead>\n",
       "  <tbody>\n",
       "    <tr>\n",
       "      <th>0</th>\n",
       "      <td>Big</td>\n",
       "      <td>City</td>\n",
       "      <td>Expensive</td>\n",
       "      <td>Yes</td>\n",
       "    </tr>\n",
       "    <tr>\n",
       "      <th>1</th>\n",
       "      <td>Small</td>\n",
       "      <td>City</td>\n",
       "      <td>Expensive</td>\n",
       "      <td>No</td>\n",
       "    </tr>\n",
       "    <tr>\n",
       "      <th>2</th>\n",
       "      <td>Small</td>\n",
       "      <td>Rural</td>\n",
       "      <td>Cheap</td>\n",
       "      <td>Yes</td>\n",
       "    </tr>\n",
       "    <tr>\n",
       "      <th>3</th>\n",
       "      <td>Big</td>\n",
       "      <td>Suburban</td>\n",
       "      <td>Expensive</td>\n",
       "      <td>Yes</td>\n",
       "    </tr>\n",
       "    <tr>\n",
       "      <th>4</th>\n",
       "      <td>Small</td>\n",
       "      <td>Suburban</td>\n",
       "      <td>Cheap</td>\n",
       "      <td>No</td>\n",
       "    </tr>\n",
       "    <tr>\n",
       "      <th>5</th>\n",
       "      <td>Big</td>\n",
       "      <td>Rural</td>\n",
       "      <td>Cheap</td>\n",
       "      <td>No</td>\n",
       "    </tr>\n",
       "    <tr>\n",
       "      <th>6</th>\n",
       "      <td>Small</td>\n",
       "      <td>Rural</td>\n",
       "      <td>Cheap</td>\n",
       "      <td>Yes</td>\n",
       "    </tr>\n",
       "    <tr>\n",
       "      <th>7</th>\n",
       "      <td>Big</td>\n",
       "      <td>Rural</td>\n",
       "      <td>Cheap</td>\n",
       "      <td>Yes</td>\n",
       "    </tr>\n",
       "    <tr>\n",
       "      <th>8</th>\n",
       "      <td>Big</td>\n",
       "      <td>Suburban</td>\n",
       "      <td>Expensive</td>\n",
       "      <td>Yes</td>\n",
       "    </tr>\n",
       "    <tr>\n",
       "      <th>9</th>\n",
       "      <td>Small</td>\n",
       "      <td>City</td>\n",
       "      <td>Cheap</td>\n",
       "      <td>No</td>\n",
       "    </tr>\n",
       "    <tr>\n",
       "      <th>10</th>\n",
       "      <td>Big</td>\n",
       "      <td>Rural</td>\n",
       "      <td>Cheap</td>\n",
       "      <td>No</td>\n",
       "    </tr>\n",
       "    <tr>\n",
       "      <th>11</th>\n",
       "      <td>Small</td>\n",
       "      <td>Rural</td>\n",
       "      <td>Cheap</td>\n",
       "      <td>Yes</td>\n",
       "    </tr>\n",
       "    <tr>\n",
       "      <th>12</th>\n",
       "      <td>Big</td>\n",
       "      <td>Suburban</td>\n",
       "      <td>Expensive</td>\n",
       "      <td>Yes</td>\n",
       "    </tr>\n",
       "    <tr>\n",
       "      <th>13</th>\n",
       "      <td>Small</td>\n",
       "      <td>Suburban</td>\n",
       "      <td>Cheap</td>\n",
       "      <td>No</td>\n",
       "    </tr>\n",
       "    <tr>\n",
       "      <th>14</th>\n",
       "      <td>Big</td>\n",
       "      <td>Rural</td>\n",
       "      <td>Cheap</td>\n",
       "      <td>No</td>\n",
       "    </tr>\n",
       "    <tr>\n",
       "      <th>15</th>\n",
       "      <td>Small</td>\n",
       "      <td>Rural</td>\n",
       "      <td>Cheap</td>\n",
       "      <td>Yes</td>\n",
       "    </tr>\n",
       "  </tbody>\n",
       "</table>\n",
       "</div>"
      ],
      "text/plain": [
       "   PropertySize      Area    Pricing Answer\n",
       "0           Big      City  Expensive    Yes\n",
       "1         Small      City  Expensive     No\n",
       "2         Small     Rural      Cheap    Yes\n",
       "3           Big  Suburban  Expensive    Yes\n",
       "4         Small  Suburban      Cheap     No\n",
       "5           Big     Rural      Cheap     No\n",
       "6         Small     Rural      Cheap    Yes\n",
       "7           Big     Rural      Cheap    Yes\n",
       "8           Big  Suburban  Expensive    Yes\n",
       "9         Small      City      Cheap     No\n",
       "10          Big     Rural      Cheap     No\n",
       "11        Small     Rural      Cheap    Yes\n",
       "12          Big  Suburban  Expensive    Yes\n",
       "13        Small  Suburban      Cheap     No\n",
       "14          Big     Rural      Cheap     No\n",
       "15        Small     Rural      Cheap    Yes"
      ]
     },
     "execution_count": 74,
     "metadata": {},
     "output_type": "execute_result"
    }
   ],
   "source": [
    "data"
   ]
  },
  {
   "cell_type": "code",
   "execution_count": 64,
   "id": "4a2284b1",
   "metadata": {},
   "outputs": [],
   "source": [
    "features = [feat for feat in data]\n",
    "features.remove(\"Answer\")"
   ]
  },
  {
   "cell_type": "code",
   "execution_count": 65,
   "id": "48b19670",
   "metadata": {},
   "outputs": [
    {
     "data": {
      "text/plain": [
       "['PropertySize', 'Area', 'Pricing']"
      ]
     },
     "execution_count": 65,
     "metadata": {},
     "output_type": "execute_result"
    }
   ],
   "source": [
    "features"
   ]
  },
  {
   "cell_type": "code",
   "execution_count": 66,
   "id": "6cb1627f",
   "metadata": {},
   "outputs": [],
   "source": [
    "class Node:\n",
    "    def __init__(self):\n",
    "        self.children = []\n",
    "        self.value = \"\"\n",
    "        self.isLeaf = False\n",
    "        self.pred = \"\""
   ]
  },
  {
   "cell_type": "code",
   "execution_count": 67,
   "id": "b251546c",
   "metadata": {},
   "outputs": [],
   "source": [
    "def entropy(examples):\n",
    "    pos = 0.0\n",
    "    neg = 0.0\n",
    "    for _, row in examples.iterrows():\n",
    "        if row[\"Answer\"] == \"Yes\":\n",
    "            pos += 1\n",
    "        else:\n",
    "            neg += 1\n",
    "    if pos == 0.0 or neg == 0.0:\n",
    "        return 0.0\n",
    "    else:\n",
    "        p = pos / (pos + neg)\n",
    "        n = neg / (pos + neg)\n",
    "        return -(p * math.log(p, 2) + n * math.log(n, 2))"
   ]
  },
  {
   "cell_type": "code",
   "execution_count": 68,
   "id": "e283cde7",
   "metadata": {},
   "outputs": [],
   "source": [
    "def info_gain(examples, attr):\n",
    "    uniq = np.unique(examples[attr])\n",
    "#     print (\"\\n\",uniq)\n",
    "    gain = entropy(examples)\n",
    "#     print (\"\\n\",gain)\n",
    "    for u in uniq:\n",
    "        subdata = examples[examples[attr] == u]\n",
    "#         print (\"\\n\",subdata)\n",
    "        sub_e = entropy(subdata)\n",
    "        gain -= (float(len(subdata)) / float(len(examples))) * sub_e\n",
    "#         print (\"\\n\",gain)\n",
    "    return gain"
   ]
  },
  {
   "cell_type": "code",
   "execution_count": 54,
   "id": "ad3eee89",
   "metadata": {},
   "outputs": [
    {
     "data": {
      "text/plain": [
       "1.0"
      ]
     },
     "execution_count": 54,
     "metadata": {},
     "output_type": "execute_result"
    }
   ],
   "source": [
    "info_gain(data, features)"
   ]
  },
  {
   "cell_type": "code",
   "execution_count": 69,
   "id": "e521265a",
   "metadata": {},
   "outputs": [],
   "source": [
    "def ID3(examples, attrs):\n",
    "    root = Node()\n",
    "\n",
    "    max_gain = 0\n",
    "    max_feat = \"\"\n",
    "    for feature in attrs:\n",
    "#         print (\"\\n\",examples)\n",
    "        gain = info_gain(examples, feature)\n",
    "        if gain > max_gain:\n",
    "            max_gain = gain\n",
    "            max_feat = feature\n",
    "    root.value = max_feat\n",
    "    print (\"\\nMax feature attr\",max_feat)\n",
    "    uniq = np.unique(examples[max_feat])\n",
    "    #print (\"\\n\",uniq)\n",
    "    for u in uniq:\n",
    "        #print (\"\\n\",u)\n",
    "        subdata = examples[examples[max_feat] == u]\n",
    "        #print (\"\\n\",subdata)\n",
    "        if entropy(subdata) == 0.0:\n",
    "            newNode = Node()\n",
    "            newNode.isLeaf = True\n",
    "            newNode.value = u\n",
    "            newNode.pred = np.unique(subdata[\"Answer\"])\n",
    "            root.children.append(newNode)\n",
    "        else:\n",
    "            dummyNode = Node()\n",
    "            dummyNode.value = u\n",
    "            new_attrs = attrs.copy()\n",
    "            new_attrs.remove(max_feat)\n",
    "            child = ID3(subdata, new_attrs)\n",
    "            dummyNode.children.append(child)\n",
    "            root.children.append(dummyNode)\n",
    "    return root"
   ]
  },
  {
   "cell_type": "code",
   "execution_count": null,
   "id": "8a44df14",
   "metadata": {},
   "outputs": [],
   "source": []
  },
  {
   "cell_type": "code",
   "execution_count": 70,
   "id": "00474b00",
   "metadata": {},
   "outputs": [
    {
     "name": "stdout",
     "output_type": "stream",
     "text": [
      "\n",
      "Max feature attr PropertySize\n",
      "\n",
      "Max feature attr Area\n",
      "\n",
      "Max feature attr Area\n",
      "PropertySize\n",
      "\tBig\n",
      "\t\tArea\n",
      "\t\t\tCity ->  ['Yes']\n",
      "\n",
      "\t\t\tRural ->  ['No']\n",
      "\n",
      "\t\t\tSuburban ->  ['Yes']\n",
      "\n",
      "\tSmall\n",
      "\t\tArea\n",
      "\t\t\tCity ->  ['No']\n",
      "\n",
      "\t\t\tRural ->  ['Yes']\n",
      "\n",
      "\t\t\tSuburban ->  ['No']\n",
      "\n"
     ]
    }
   ],
   "source": [
    "def printTree(root: Node, depth=0):\n",
    "    for i in range(depth):\n",
    "        print(\"\\t\", end=\"\")\n",
    "    print(root.value, end=\"\")\n",
    "    if root.isLeaf:\n",
    "        print(\" -> \", root.pred)\n",
    "    print()\n",
    "    for child in root.children:\n",
    "        printTree(child, depth + 1)\n",
    "\n",
    "root = ID3(data, features)\n",
    "printTree(root)\n"
   ]
  },
  {
   "cell_type": "code",
   "execution_count": null,
   "id": "c68cc4fc",
   "metadata": {},
   "outputs": [],
   "source": []
  },
  {
   "cell_type": "code",
   "execution_count": null,
   "id": "1d47a5af",
   "metadata": {},
   "outputs": [],
   "source": []
  },
  {
   "cell_type": "code",
   "execution_count": null,
   "id": "d9ce6eaa",
   "metadata": {},
   "outputs": [],
   "source": []
  }
 ],
 "metadata": {
  "kernelspec": {
   "display_name": "Python 3 (ipykernel)",
   "language": "python",
   "name": "python3"
  },
  "language_info": {
   "codemirror_mode": {
    "name": "ipython",
    "version": 3
   },
   "file_extension": ".py",
   "mimetype": "text/x-python",
   "name": "python",
   "nbconvert_exporter": "python",
   "pygments_lexer": "ipython3",
   "version": "3.9.7"
  }
 },
 "nbformat": 4,
 "nbformat_minor": 5
}
