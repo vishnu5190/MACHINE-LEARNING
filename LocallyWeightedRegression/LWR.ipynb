{
 "cells": [
  {
   "cell_type": "code",
   "execution_count": 1,
   "metadata": {
    "colab": {
     "base_uri": "https://localhost:8080/"
    },
    "executionInfo": {
     "elapsed": 1600,
     "status": "ok",
     "timestamp": 1686245388482,
     "user": {
      "displayName": "Vijaya Verma Computer Science",
      "userId": "08505233300848805499"
     },
     "user_tz": -330
    },
    "id": "z8evG9S5BUz-",
    "outputId": "1d02366f-dcc9-4a6a-aba4-90944e85ee3f"
   },
   "outputs": [],
   "source": [
    "from numpy import *\n",
    "from os import listdir\n",
    "import matplotlib\n",
    "import matplotlib.pyplot as plt\n",
    "import pandas as pd\n",
    "import numpy as np1\n",
    "import numpy.linalg as np\n",
    "from scipy.stats.stats import pearsonr"
   ]
  },
  {
   "cell_type": "code",
   "execution_count": 2,
   "metadata": {
    "executionInfo": {
     "elapsed": 3,
     "status": "ok",
     "timestamp": 1686245402582,
     "user": {
      "displayName": "Vijaya Verma Computer Science",
      "userId": "08505233300848805499"
     },
     "user_tz": -330
    },
    "id": "UOOEQF7yDtZn"
   },
   "outputs": [],
   "source": [
    "def kernel(point,xmat, k):\n",
    "    m,n = np1.shape(xmat)\n",
    "    weights = np1.mat(np1.eye((m)))\n",
    "    for j in range(m):\n",
    "        diff = point - X[j]\n",
    "        weights[j,j] = np1.exp(diff*diff.T/(-2.0*k**2))\n",
    "    return weights\n",
    "\n",
    "def localWeight(point,xmat,ymat,k):\n",
    "    wei = kernel(point,xmat,k)\n",
    "    W = (X.T*(wei*X)).I*(X.T*(wei*ymat.T))\n",
    "    return W\n",
    "\n",
    "def localWeightRegression(xmat,ymat,k):\n",
    "    m,n = np1.shape(xmat)\n",
    "    ypred = np1.zeros(m)\n",
    "    for i in range(m):\n",
    "        ypred[i] = xmat[i]*localWeight(xmat[i],xmat,ymat,k)\n",
    "    return ypred"
   ]
  },
  {
   "cell_type": "code",
   "execution_count": 3,
   "metadata": {
    "colab": {
     "base_uri": "https://localhost:8080/",
     "height": 449
    },
    "executionInfo": {
     "elapsed": 5732,
     "status": "ok",
     "timestamp": 1686245426285,
     "user": {
      "displayName": "Vijaya Verma Computer Science",
      "userId": "08505233300848805499"
     },
     "user_tz": -330
    },
    "id": "8t4l2VBJDu5W",
    "outputId": "d78ceeba-6d00-40a2-fe1a-aaeb85efd5f6"
   },
   "outputs": [
    {
     "data": {
      "image/png": "[encoded data removed]",
      "text/plain": [
       "<Figure size 432x288 with 1 Axes>"
      ]
     },
     "metadata": {
      "needs_background": "light"
     },
     "output_type": "display_data"
    }
   ],
   "source": [
    "data = pd.read_csv('tips.csv')\n",
    "bill = np1.array(data.total_bill)\n",
    "tip = np1.array(data.tip)\n",
    "\n",
    "mbill = np1.mat(bill)\n",
    "mtip = np1.mat(tip) # mat is used to convert to n dimesiona to 2 dimensional array form\n",
    "m= np1.shape(mbill)[1]\n",
    "\n",
    "one = np1.mat(np1.ones(m))\n",
    "X= np1.hstack((one.T,mbill.T)) # create a stack of bill from ONE\n",
    "\n",
    "ypred = localWeightRegression(X,mtip,2)\n",
    "SortIndex = X[:,1].argsort(0)\n",
    "xsort = X[SortIndex][:,0]\n",
    "\n",
    "fig = plt.figure()\n",
    "ax = fig.add_subplot(1,1,1)\n",
    "ax.scatter(bill,tip, color='blue')\n",
    "ax.plot(xsort[:,1],ypred[SortIndex], color = 'red', linewidth=5)\n",
    "plt.xlabel('Total bill')\n",
    "plt.ylabel('Tip')\n",
    "plt.show()"
   ]
  },
  {
   "cell_type": "code",
   "execution_count": 4,
   "metadata": {
    "colab": {
     "base_uri": "https://localhost:8080/"
    },
    "executionInfo": {
     "elapsed": 3878,
     "status": "ok",
     "timestamp": 1686245452642,
     "user": {
      "displayName": "Vijaya Verma Computer Science",
      "userId": "08505233300848805499"
     },
     "user_tz": -330
    },
    "id": "VtQNH5AGD1Oh",
    "outputId": "67fc1771-b3a9-4039-ea82-ed039bb0cc96"
   },
   "outputs": [
    {
     "name": "stdout",
     "output_type": "stream",
     "text": [
      "The Data Set ( 10 Samples) X :\n",
      " [-2.99399399 -2.98798799 -2.98198198 -2.97597598 -2.96996997 -2.96396396\n",
      " -2.95795796 -2.95195195 -2.94594595]\n",
      "The Fitting Curve Data Set (10 Samples) Y :\n",
      " [2.13582188 2.13156806 2.12730467 2.12303166 2.11874898 2.11445659\n",
      " 2.11015444 2.10584249 2.10152068]\n",
      "Normalised (10 Samples) X :\n",
      " [-3.06632253 -2.88396692 -3.01393338 -3.04049219 -3.08735047 -2.96371511\n",
      " -3.14350869 -3.01310796 -3.07553247]\n",
      " Xo Domain Space(10 Samples) :\n",
      " [-2.97993311 -2.95986622 -2.93979933 -2.91973244 -2.89966555 -2.87959866\n",
      " -2.85953177 -2.83946488 -2.81939799]\n"
     ]
    }
   ],
   "source": [
    "import numpy as np\n",
    "from bokeh.plotting import figure, show, output_notebook\n",
    "from bokeh.layouts import gridplot\n",
    "from bokeh.io import push_notebook\n",
    "\n",
    "def local_regression(x0, X, Y, tau):\n",
    "    x0 = np.r_[1, x0] \n",
    "    X = np.c_[np.ones(len(X)), X]\n",
    "   \n",
    "    xw = X.T * radial_kernel(x0, X, tau) \n",
    "    beta = np.linalg.pinv(xw @ X) @ xw @ Y \n",
    "    return x0 @ beta \n",
    "\n",
    "def radial_kernel(x0, X, tau):\n",
    "    return np.exp(np.sum((X - x0) ** 2, axis=1) / (-2 * tau * tau))\n",
    "\n",
    "\n",
    "n = 1000\n",
    "X = np.linspace(-3, 3, num=n)\n",
    "print(\"The Data Set ( 10 Samples) X :\\n\",X[1:10])\n",
    "Y = np.log(np.abs(X ** 2 - 1) + .5)\n",
    "print(\"The Fitting Curve Data Set (10 Samples) Y :\\n\",Y[1:10])\n",
    "X += np.random.normal(scale=.1, size=n)\n",
    "print(\"Normalised (10 Samples) X :\\n\",X[1:10])\n",
    "domain = np.linspace(-3, 3, num=300)\n",
    "print(\" Xo Domain Space(10 Samples) :\\n\",domain[1:10])\n",
    "\n",
    "def plot_lwr(tau):\n",
    "\n",
    "    prediction = [local_regression(x0, X, Y, tau) for x0 in domain]\n",
    "    plot = figure(plot_width=400, plot_height=400)\n",
    "    plot.title.text='tau=%g' % tau\n",
    "    plot.scatter(X, Y, alpha=.3)\n",
    "    plot.line(domain, prediction, line_width=2, color='red')\n",
    "    return plot\n",
    "\n",
    "\n",
    "show(gridplot([\n",
    "[plot_lwr(10.), plot_lwr(1.)],\n",
    "[plot_lwr(0.1), plot_lwr(0.01)]]))"
   ]
  },
  {
   "cell_type": "code",
   "execution_count": null,
   "metadata": {},
   "outputs": [],
   "source": []
  }
 ],
 "metadata": {
  "colab": {
   "authorship_tag": "ABX9TyNjwWPTl9aGCMrR8B3zOk39",
   "provenance": []
  },
  "kernelspec": {
   "display_name": "Python 3",
   "language": "python",
   "name": "python3"
  },
  "language_info": {
   "codemirror_mode": {
    "name": "ipython",
    "version": 3
   },
   "file_extension": ".py",
   "mimetype": "text/x-python",
   "name": "python",
   "nbconvert_exporter": "python",
   "pygments_lexer": "ipython3",
   "version": "3.8.3"
  }
 },
 "nbformat": 4,
 "nbformat_minor": 1
}
